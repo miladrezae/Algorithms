{
 "cells": [
  {
   "cell_type": "code",
   "execution_count": 3,
   "metadata": {},
   "outputs": [],
   "source": [
    "import tensorflow as tf\n",
    "from tensorflow import keras\n",
    "import pandas as pd\n",
    "import numpy as np\n",
    "import matplotlib.pyplot as plt"
   ]
  },
  {
   "cell_type": "code",
   "execution_count": 4,
   "metadata": {},
   "outputs": [
    {
     "data": {
      "text/html": [
       "<div>\n",
       "<style scoped>\n",
       "    .dataframe tbody tr th:only-of-type {\n",
       "        vertical-align: middle;\n",
       "    }\n",
       "\n",
       "    .dataframe tbody tr th {\n",
       "        vertical-align: top;\n",
       "    }\n",
       "\n",
       "    .dataframe thead th {\n",
       "        text-align: right;\n",
       "    }\n",
       "</style>\n",
       "<table border=\"1\" class=\"dataframe\">\n",
       "  <thead>\n",
       "    <tr style=\"text-align: right;\">\n",
       "      <th></th>\n",
       "      <th>x</th>\n",
       "      <th>y</th>\n",
       "      <th>color</th>\n",
       "      <th>marker</th>\n",
       "    </tr>\n",
       "  </thead>\n",
       "  <tbody>\n",
       "    <tr>\n",
       "      <th>0</th>\n",
       "      <td>-0.765775</td>\n",
       "      <td>1.006452</td>\n",
       "      <td>red</td>\n",
       "      <td>^</td>\n",
       "    </tr>\n",
       "    <tr>\n",
       "      <th>1</th>\n",
       "      <td>0.229016</td>\n",
       "      <td>0.094320</td>\n",
       "      <td>red</td>\n",
       "      <td>^</td>\n",
       "    </tr>\n",
       "    <tr>\n",
       "      <th>2</th>\n",
       "      <td>0.189987</td>\n",
       "      <td>1.589141</td>\n",
       "      <td>red</td>\n",
       "      <td>^</td>\n",
       "    </tr>\n",
       "    <tr>\n",
       "      <th>3</th>\n",
       "      <td>0.580085</td>\n",
       "      <td>0.520488</td>\n",
       "      <td>red</td>\n",
       "      <td>^</td>\n",
       "    </tr>\n",
       "    <tr>\n",
       "      <th>4</th>\n",
       "      <td>0.292287</td>\n",
       "      <td>0.317852</td>\n",
       "      <td>red</td>\n",
       "      <td>^</td>\n",
       "    </tr>\n",
       "    <tr>\n",
       "      <th>...</th>\n",
       "      <td>...</td>\n",
       "      <td>...</td>\n",
       "      <td>...</td>\n",
       "      <td>...</td>\n",
       "    </tr>\n",
       "    <tr>\n",
       "      <th>5995</th>\n",
       "      <td>0.795819</td>\n",
       "      <td>2.726449</td>\n",
       "      <td>purple</td>\n",
       "      <td>*</td>\n",
       "    </tr>\n",
       "    <tr>\n",
       "      <th>5996</th>\n",
       "      <td>-0.362444</td>\n",
       "      <td>3.184180</td>\n",
       "      <td>purple</td>\n",
       "      <td>*</td>\n",
       "    </tr>\n",
       "    <tr>\n",
       "      <th>5997</th>\n",
       "      <td>0.638764</td>\n",
       "      <td>2.520736</td>\n",
       "      <td>purple</td>\n",
       "      <td>*</td>\n",
       "    </tr>\n",
       "    <tr>\n",
       "      <th>5998</th>\n",
       "      <td>0.845822</td>\n",
       "      <td>3.345033</td>\n",
       "      <td>purple</td>\n",
       "      <td>*</td>\n",
       "    </tr>\n",
       "    <tr>\n",
       "      <th>5999</th>\n",
       "      <td>0.183879</td>\n",
       "      <td>2.075560</td>\n",
       "      <td>purple</td>\n",
       "      <td>*</td>\n",
       "    </tr>\n",
       "  </tbody>\n",
       "</table>\n",
       "<p>6000 rows × 4 columns</p>\n",
       "</div>"
      ],
      "text/plain": [
       "             x         y   color marker\n",
       "0    -0.765775  1.006452     red      ^\n",
       "1     0.229016  0.094320     red      ^\n",
       "2     0.189987  1.589141     red      ^\n",
       "3     0.580085  0.520488     red      ^\n",
       "4     0.292287  0.317852     red      ^\n",
       "...        ...       ...     ...    ...\n",
       "5995  0.795819  2.726449  purple      *\n",
       "5996 -0.362444  3.184180  purple      *\n",
       "5997  0.638764  2.520736  purple      *\n",
       "5998  0.845822  3.345033  purple      *\n",
       "5999  0.183879  2.075560  purple      *\n",
       "\n",
       "[6000 rows x 4 columns]"
      ]
     },
     "execution_count": 4,
     "metadata": {},
     "output_type": "execute_result"
    }
   ],
   "source": [
    "train_df=pd.read_csv('train.csv')\n",
    "train_df"
   ]
  },
  {
   "cell_type": "markdown",
   "metadata": {},
   "source": [
    "We have 6 colors and 3 markers, so we make a one-hot"
   ]
  },
  {
   "cell_type": "code",
   "execution_count": 33,
   "metadata": {},
   "outputs": [],
   "source": [
    "one_hot_color=pd.get_dummies(train_df.color,drop_first=True).values\n",
    "one_hot_marker=pd.get_dummies(train_df.marker).values"
   ]
  },
  {
   "cell_type": "code",
   "execution_count": 22,
   "metadata": {},
   "outputs": [
    {
     "data": {
      "text/plain": [
       "array([[0, 0, 0, ..., 0, 0, 1],\n",
       "       [0, 0, 0, ..., 0, 0, 1],\n",
       "       [0, 0, 0, ..., 0, 0, 1],\n",
       "       ...,\n",
       "       [0, 0, 1, ..., 1, 0, 0],\n",
       "       [0, 0, 1, ..., 1, 0, 0],\n",
       "       [0, 0, 1, ..., 1, 0, 0]], dtype=uint8)"
      ]
     },
     "execution_count": 22,
     "metadata": {},
     "output_type": "execute_result"
    }
   ],
   "source": [
    "labels=np.concatenate((one_hot_color, one_hot_marker),axis=1)\n",
    "labels"
   ]
  },
  {
   "cell_type": "markdown",
   "metadata": {},
   "source": [
    "## Model preparation:"
   ]
  },
  {
   "cell_type": "code",
   "execution_count": 34,
   "metadata": {},
   "outputs": [],
   "source": [
    "model=keras.Sequential([#allows us to list layers\n",
    "    keras.layers.Dense(32, input_shape=(2,),activation='relu'),#32 layers, inputshape of 2 because its x and y.\n",
    "#     keras.layers.Dropout(0.2),\n",
    "    keras.layers.Dense(32,activation='relu'),\n",
    "    keras.layers.Dense(32,activation='relu'),\n",
    "    keras.layers.Dense(5, activation='sigmoid') #6 for the binary we could use sigmoid or softmax\n",
    "]) \n",
    "\n",
    "model.compile(optimizer='adam',\n",
    "             loss=keras.losses.BinaryCrossentropy(), #BinaryCrossenropy predicts each position independently (because we could have more than one 1)\n",
    "#logits means function operates on unscaled output of earlier layers and the relative scale to understand the unit is linear.\n",
    "#we use logits because our values(x and y) are not between 0 and 1\n",
    "              metrics=['accuracy']\n",
    "             ) \n"
   ]
  },
  {
   "cell_type": "markdown",
   "metadata": {},
   "source": [
    "we need to change our X and Y into one variable"
   ]
  },
  {
   "cell_type": "code",
   "execution_count": 35,
   "metadata": {},
   "outputs": [],
   "source": [
    "x=np.column_stack((train_df.x.values,train_df.y.values)) #This pairs x and y columns together in one value"
   ]
  },
  {
   "cell_type": "markdown",
   "metadata": {},
   "source": [
    "Note: We need to shuffle because highly correlated points are next to each other.\n",
    "we also need to use the same seed for both to not mess up our data"
   ]
  },
  {
   "cell_type": "code",
   "execution_count": 36,
   "metadata": {},
   "outputs": [],
   "source": [
    "from sklearn.preprocessing import MinMaxScaler\n",
    "np.random.RandomState(seed=42).shuffle(x)\n",
    "np.random.RandomState(seed=42).shuffle(one_hot_color)\n",
    "\n",
    "x=MinMaxScaler().fit_transform(x)\n",
    "# labels=MinMaxScaler().fit_transform(labels)\n"
   ]
  },
  {
   "cell_type": "markdown",
   "metadata": {},
   "source": [
    "## Fitting training data:"
   ]
  },
  {
   "cell_type": "code",
   "execution_count": 37,
   "metadata": {},
   "outputs": [
    {
     "name": "stdout",
     "output_type": "stream",
     "text": [
      "Epoch 1/10\n",
      "1500/1500 [==============================] - 2s 663us/step - loss: 0.3491 - accuracy: 0.4532\n",
      "Epoch 2/10\n",
      "1500/1500 [==============================] - 1s 605us/step - loss: 0.0800 - accuracy: 0.8029\n",
      "Epoch 3/10\n",
      "1500/1500 [==============================] - 1s 599us/step - loss: 0.0511 - accuracy: 0.8112\n",
      "Epoch 4/10\n",
      "1500/1500 [==============================] - 1s 601us/step - loss: 0.0395 - accuracy: 0.8089\n",
      "Epoch 5/10\n",
      "1500/1500 [==============================] - 1s 605us/step - loss: 0.0350 - accuracy: 0.8048\n",
      "Epoch 6/10\n",
      "1500/1500 [==============================] - 1s 606us/step - loss: 0.0302 - accuracy: 0.8149\n",
      "Epoch 7/10\n",
      "1500/1500 [==============================] - 1s 608us/step - loss: 0.0253 - accuracy: 0.8160\n",
      "Epoch 8/10\n",
      "1500/1500 [==============================] - 1s 624us/step - loss: 0.0255 - accuracy: 0.8172\n",
      "Epoch 9/10\n",
      "1500/1500 [==============================] - 1s 664us/step - loss: 0.0270 - accuracy: 0.8012\n",
      "Epoch 10/10\n",
      "1500/1500 [==============================] - 1s 686us/step - loss: 0.0232 - accuracy: 0.8186\n"
     ]
    },
    {
     "data": {
      "text/plain": [
       "<tensorflow.python.keras.callbacks.History at 0x1f2bdb23850>"
      ]
     },
     "execution_count": 37,
     "metadata": {},
     "output_type": "execute_result"
    }
   ],
   "source": [
    "model.fit(x,one_hot_color,batch_size=4,epochs=10)"
   ]
  },
  {
   "cell_type": "markdown",
   "metadata": {},
   "source": [
    "## Test data:"
   ]
  },
  {
   "cell_type": "code",
   "execution_count": null,
   "metadata": {},
   "outputs": [],
   "source": [
    "test_df=pd.read_csv('test.csv')\n",
    "test_df.color=test_df.color.map(d)\n",
    "test_x=np.column_stack((test_df['x'].values,test_df.y.values))\n"
   ]
  },
  {
   "cell_type": "code",
   "execution_count": null,
   "metadata": {},
   "outputs": [],
   "source": [
    "model.evaluate(test_x,test_df.color.values)"
   ]
  },
  {
   "cell_type": "code",
   "execution_count": null,
   "metadata": {},
   "outputs": [],
   "source": [
    "model.predict(np.array([[0,3]])) #Look on graph and find 0,3, see if the color matches\n",
    "#np.round(model.predict(np.array([[0,3]]))) looks better"
   ]
  },
  {
   "cell_type": "code",
   "execution_count": null,
   "metadata": {},
   "outputs": [],
   "source": []
  }
 ],
 "metadata": {
  "kernelspec": {
   "display_name": "Python 3",
   "language": "python",
   "name": "python3"
  }
 },
 "nbformat": 4,
 "nbformat_minor": 4
}
