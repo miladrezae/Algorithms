{
 "cells": [
  {
   "cell_type": "code",
   "execution_count": 1,
   "metadata": {},
   "outputs": [],
   "source": [
    "import tensorflow as tf\n",
    "from tensorflow import keras\n",
    "import pandas as pd\n",
    "import numpy as np\n",
    "import matplotlib.pyplot as plt"
   ]
  },
  {
   "cell_type": "code",
   "execution_count": 2,
   "metadata": {},
   "outputs": [
    {
     "data": {
      "text/plain": [
       "array(['red', 'blue', 'green', 'teal', 'orange', 'purple'], dtype=object)"
      ]
     },
     "execution_count": 2,
     "metadata": {},
     "output_type": "execute_result"
    }
   ],
   "source": [
    "train_df=pd.read_csv('train.csv')\n",
    "train_df.color.unique()"
   ]
  },
  {
   "cell_type": "markdown",
   "metadata": {},
   "source": [
    "We need to convert the color strings into numbers"
   ]
  },
  {
   "cell_type": "code",
   "execution_count": 3,
   "metadata": {},
   "outputs": [
    {
     "data": {
      "text/html": [
       "<div>\n",
       "<style scoped>\n",
       "    .dataframe tbody tr th:only-of-type {\n",
       "        vertical-align: middle;\n",
       "    }\n",
       "\n",
       "    .dataframe tbody tr th {\n",
       "        vertical-align: top;\n",
       "    }\n",
       "\n",
       "    .dataframe thead th {\n",
       "        text-align: right;\n",
       "    }\n",
       "</style>\n",
       "<table border=\"1\" class=\"dataframe\">\n",
       "  <thead>\n",
       "    <tr style=\"text-align: right;\">\n",
       "      <th></th>\n",
       "      <th>x</th>\n",
       "      <th>y</th>\n",
       "      <th>color</th>\n",
       "    </tr>\n",
       "  </thead>\n",
       "  <tbody>\n",
       "    <tr>\n",
       "      <th>0</th>\n",
       "      <td>0.129270</td>\n",
       "      <td>1.979720</td>\n",
       "      <td>0</td>\n",
       "    </tr>\n",
       "    <tr>\n",
       "      <th>1</th>\n",
       "      <td>-0.380831</td>\n",
       "      <td>1.693519</td>\n",
       "      <td>0</td>\n",
       "    </tr>\n",
       "    <tr>\n",
       "      <th>2</th>\n",
       "      <td>0.718693</td>\n",
       "      <td>1.791793</td>\n",
       "      <td>0</td>\n",
       "    </tr>\n",
       "    <tr>\n",
       "      <th>3</th>\n",
       "      <td>0.722922</td>\n",
       "      <td>0.620655</td>\n",
       "      <td>0</td>\n",
       "    </tr>\n",
       "    <tr>\n",
       "      <th>4</th>\n",
       "      <td>-0.432689</td>\n",
       "      <td>0.541550</td>\n",
       "      <td>0</td>\n",
       "    </tr>\n",
       "    <tr>\n",
       "      <th>...</th>\n",
       "      <td>...</td>\n",
       "      <td>...</td>\n",
       "      <td>...</td>\n",
       "    </tr>\n",
       "    <tr>\n",
       "      <th>5995</th>\n",
       "      <td>0.973060</td>\n",
       "      <td>3.174358</td>\n",
       "      <td>5</td>\n",
       "    </tr>\n",
       "    <tr>\n",
       "      <th>5996</th>\n",
       "      <td>-0.894536</td>\n",
       "      <td>2.964002</td>\n",
       "      <td>5</td>\n",
       "    </tr>\n",
       "    <tr>\n",
       "      <th>5997</th>\n",
       "      <td>0.426649</td>\n",
       "      <td>3.511122</td>\n",
       "      <td>5</td>\n",
       "    </tr>\n",
       "    <tr>\n",
       "      <th>5998</th>\n",
       "      <td>-0.414503</td>\n",
       "      <td>2.712347</td>\n",
       "      <td>5</td>\n",
       "    </tr>\n",
       "    <tr>\n",
       "      <th>5999</th>\n",
       "      <td>-0.248018</td>\n",
       "      <td>2.501135</td>\n",
       "      <td>5</td>\n",
       "    </tr>\n",
       "  </tbody>\n",
       "</table>\n",
       "<p>6000 rows × 3 columns</p>\n",
       "</div>"
      ],
      "text/plain": [
       "             x         y  color\n",
       "0     0.129270  1.979720      0\n",
       "1    -0.380831  1.693519      0\n",
       "2     0.718693  1.791793      0\n",
       "3     0.722922  0.620655      0\n",
       "4    -0.432689  0.541550      0\n",
       "...        ...       ...    ...\n",
       "5995  0.973060  3.174358      5\n",
       "5996 -0.894536  2.964002      5\n",
       "5997  0.426649  3.511122      5\n",
       "5998 -0.414503  2.712347      5\n",
       "5999 -0.248018  2.501135      5\n",
       "\n",
       "[6000 rows x 3 columns]"
      ]
     },
     "execution_count": 3,
     "metadata": {},
     "output_type": "execute_result"
    }
   ],
   "source": [
    "d={'red':0, 'blue':1, 'green':2, 'teal':3, 'orange':4, 'purple':5}\n",
    "train_df.color=train_df.color.map(d)\n",
    "train_df"
   ]
  },
  {
   "cell_type": "markdown",
   "metadata": {},
   "source": [
    "## Model preparation:"
   ]
  },
  {
   "cell_type": "code",
   "execution_count": 4,
   "metadata": {},
   "outputs": [],
   "source": [
    "model=keras.Sequential([#allows us to list layers\n",
    "    keras.layers.Dense(32, input_shape=(2,),activation='relu'),#8 layers, inputshape of 2 because its x and y.\n",
    "    #keras.layers.Dropout(0.2)\n",
    "    keras.layers.Dense(32,activation='relu'),\n",
    "    keras.layers.Dense(6, activation='sigmoid') #6 for the binary we could use sigmoid or softmax\n",
    "]) \n",
    "\n",
    "model.compile(optimizer='adam',\n",
    "             loss=keras.losses.SparseCategoricalCrossentropy(from_logits=True),\n",
    "#using sparse because its not a one-hot[0,0,1,0], but is integer(1 and 0)\n",
    "#logits means function operates on unscaled output of earlier layers and the relative scale to understand the unit is linear.\n",
    "#we use logits because our values(x and y) are not between 0 and 1\n",
    "              metrics=['accuracy']\n",
    "             ) \n"
   ]
  },
  {
   "cell_type": "markdown",
   "metadata": {},
   "source": [
    "Note: We need to shuffle because highly correlated points are next to each other."
   ]
  },
  {
   "cell_type": "code",
   "execution_count": 5,
   "metadata": {},
   "outputs": [],
   "source": [
    "np.random.shuffle(train_df.values) #This is an inplace method."
   ]
  },
  {
   "cell_type": "markdown",
   "metadata": {},
   "source": [
    "we need to change our X and Y into one variable"
   ]
  },
  {
   "cell_type": "code",
   "execution_count": 6,
   "metadata": {},
   "outputs": [],
   "source": [
    "train_df.x.values #This gets our dataframe to numpy array\n",
    "# type(train_df.x.values)\n",
    "x=np.column_stack((train_df.x.values,train_df.y.values)) #This pairs x and y columns together in one value"
   ]
  },
  {
   "cell_type": "markdown",
   "metadata": {},
   "source": [
    "## Fitting training data:"
   ]
  },
  {
   "cell_type": "code",
   "execution_count": 7,
   "metadata": {},
   "outputs": [
    {
     "name": "stdout",
     "output_type": "stream",
     "text": [
      "Epoch 1/10\n",
      "1500/1500 [==============================] - 1s 663us/step - loss: 0.9462 - accuracy: 0.6638\n",
      "Epoch 2/10\n",
      "1500/1500 [==============================] - 1s 662us/step - loss: 0.1891 - accuracy: 0.9435\n",
      "Epoch 3/10\n",
      "1500/1500 [==============================] - 1s 658us/step - loss: 0.1241 - accuracy: 0.9623\n",
      "Epoch 4/10\n",
      "1500/1500 [==============================] - 1s 625us/step - loss: 0.0978 - accuracy: 0.9692\n",
      "Epoch 5/10\n",
      "1500/1500 [==============================] - 1s 602us/step - loss: 0.0895 - accuracy: 0.9713\n",
      "Epoch 6/10\n",
      "1500/1500 [==============================] - 1s 597us/step - loss: 0.0791 - accuracy: 0.9713\n",
      "Epoch 7/10\n",
      "1500/1500 [==============================] - 1s 602us/step - loss: 0.0757 - accuracy: 0.9719\n",
      "Epoch 8/10\n",
      "1500/1500 [==============================] - 1s 628us/step - loss: 0.0705 - accuracy: 0.9757\n",
      "Epoch 9/10\n",
      "1500/1500 [==============================] - 1s 567us/step - loss: 0.0668 - accuracy: 0.9766\n",
      "Epoch 10/10\n",
      "1500/1500 [==============================] - 1s 577us/step - loss: 0.0662 - accuracy: 0.9741\n"
     ]
    },
    {
     "data": {
      "text/plain": [
       "<tensorflow.python.keras.callbacks.History at 0x23852c16f70>"
      ]
     },
     "execution_count": 7,
     "metadata": {},
     "output_type": "execute_result"
    }
   ],
   "source": [
    "model.fit(x,train_df.color.values,batch_size=4,epochs=10)"
   ]
  },
  {
   "cell_type": "markdown",
   "metadata": {},
   "source": [
    "## Test data:"
   ]
  },
  {
   "cell_type": "code",
   "execution_count": 8,
   "metadata": {},
   "outputs": [],
   "source": [
    "test_df=pd.read_csv('test.csv')\n",
    "test_df.color=test_df.color.map(d)\n",
    "test_x=np.column_stack((test_df['x'].values,test_df.y.values))\n"
   ]
  },
  {
   "cell_type": "code",
   "execution_count": 9,
   "metadata": {},
   "outputs": [
    {
     "name": "stdout",
     "output_type": "stream",
     "text": [
      "38/38 [==============================] - 0s 554us/step - loss: 0.0762 - accuracy: 0.9658\n"
     ]
    },
    {
     "data": {
      "text/plain": [
       "[0.07624775171279907, 0.965833306312561]"
      ]
     },
     "execution_count": 9,
     "metadata": {},
     "output_type": "execute_result"
    }
   ],
   "source": [
    "model.evaluate(test_x,test_df.color.values)"
   ]
  },
  {
   "cell_type": "code",
   "execution_count": 10,
   "metadata": {},
   "outputs": [
    {
     "data": {
      "text/plain": [
       "array([[2.5307834e-03, 2.4688840e-03, 2.5687528e-11, 8.7047425e-15,\n",
       "        7.2646566e-07, 9.9981976e-01]], dtype=float32)"
      ]
     },
     "execution_count": 10,
     "metadata": {},
     "output_type": "execute_result"
    }
   ],
   "source": [
    "model.predict(np.array([[0,3]])) #Look on graph and find 0,3, see if the color matches\n",
    "#np.round(model.predict(np.array([[0,3]]))) looks better"
   ]
  },
  {
   "cell_type": "code",
   "execution_count": null,
   "metadata": {},
   "outputs": [],
   "source": []
  }
 ],
 "metadata": {
  "kernelspec": {
   "display_name": "Python 3",
   "language": "python",
   "name": "python3"
  },
  "language_info": {
   "codemirror_mode": {
    "name": "ipython",
    "version": 3
   },
   "file_extension": ".py",
   "mimetype": "text/x-python",
   "name": "python",
   "nbconvert_exporter": "python",
   "pygments_lexer": "ipython3",
   "version": "3.8.5"
  }
 },
 "nbformat": 4,
 "nbformat_minor": 4
}
