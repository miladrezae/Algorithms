{
 "cells": [
  {
   "cell_type": "code",
   "execution_count": 2,
   "metadata": {},
   "outputs": [],
   "source": [
    "import tensorflow as tf\n",
    "from tensorflow import keras\n",
    "import pandas as pd\n",
    "import numpy as np"
   ]
  },
  {
   "cell_type": "code",
   "execution_count": 3,
   "metadata": {},
   "outputs": [
    {
     "data": {
      "text/html": [
       "<div>\n",
       "<style scoped>\n",
       "    .dataframe tbody tr th:only-of-type {\n",
       "        vertical-align: middle;\n",
       "    }\n",
       "\n",
       "    .dataframe tbody tr th {\n",
       "        vertical-align: top;\n",
       "    }\n",
       "\n",
       "    .dataframe thead th {\n",
       "        text-align: right;\n",
       "    }\n",
       "</style>\n",
       "<table border=\"1\" class=\"dataframe\">\n",
       "  <thead>\n",
       "    <tr style=\"text-align: right;\">\n",
       "      <th></th>\n",
       "      <th>x</th>\n",
       "      <th>y</th>\n",
       "      <th>color</th>\n",
       "    </tr>\n",
       "  </thead>\n",
       "  <tbody>\n",
       "    <tr>\n",
       "      <th>0</th>\n",
       "      <td>1.146728</td>\n",
       "      <td>2.233629</td>\n",
       "      <td>0.0</td>\n",
       "    </tr>\n",
       "    <tr>\n",
       "      <th>1</th>\n",
       "      <td>3.676886</td>\n",
       "      <td>4.520687</td>\n",
       "      <td>0.0</td>\n",
       "    </tr>\n",
       "    <tr>\n",
       "      <th>2</th>\n",
       "      <td>0.730671</td>\n",
       "      <td>1.426260</td>\n",
       "      <td>0.0</td>\n",
       "    </tr>\n",
       "    <tr>\n",
       "      <th>3</th>\n",
       "      <td>1.950790</td>\n",
       "      <td>3.145987</td>\n",
       "      <td>0.0</td>\n",
       "    </tr>\n",
       "    <tr>\n",
       "      <th>4</th>\n",
       "      <td>4.323010</td>\n",
       "      <td>5.320534</td>\n",
       "      <td>0.0</td>\n",
       "    </tr>\n",
       "    <tr>\n",
       "      <th>...</th>\n",
       "      <td>...</td>\n",
       "      <td>...</td>\n",
       "      <td>...</td>\n",
       "    </tr>\n",
       "    <tr>\n",
       "      <th>3995</th>\n",
       "      <td>1.689159</td>\n",
       "      <td>1.110303</td>\n",
       "      <td>1.0</td>\n",
       "    </tr>\n",
       "    <tr>\n",
       "      <th>3996</th>\n",
       "      <td>1.172153</td>\n",
       "      <td>0.043722</td>\n",
       "      <td>1.0</td>\n",
       "    </tr>\n",
       "    <tr>\n",
       "      <th>3997</th>\n",
       "      <td>1.282723</td>\n",
       "      <td>0.787167</td>\n",
       "      <td>1.0</td>\n",
       "    </tr>\n",
       "    <tr>\n",
       "      <th>3998</th>\n",
       "      <td>2.227875</td>\n",
       "      <td>1.446870</td>\n",
       "      <td>1.0</td>\n",
       "    </tr>\n",
       "    <tr>\n",
       "      <th>3999</th>\n",
       "      <td>0.232951</td>\n",
       "      <td>-0.723405</td>\n",
       "      <td>1.0</td>\n",
       "    </tr>\n",
       "  </tbody>\n",
       "</table>\n",
       "<p>4000 rows × 3 columns</p>\n",
       "</div>"
      ],
      "text/plain": [
       "             x         y  color\n",
       "0     1.146728  2.233629    0.0\n",
       "1     3.676886  4.520687    0.0\n",
       "2     0.730671  1.426260    0.0\n",
       "3     1.950790  3.145987    0.0\n",
       "4     4.323010  5.320534    0.0\n",
       "...        ...       ...    ...\n",
       "3995  1.689159  1.110303    1.0\n",
       "3996  1.172153  0.043722    1.0\n",
       "3997  1.282723  0.787167    1.0\n",
       "3998  2.227875  1.446870    1.0\n",
       "3999  0.232951 -0.723405    1.0\n",
       "\n",
       "[4000 rows x 3 columns]"
      ]
     },
     "execution_count": 3,
     "metadata": {},
     "output_type": "execute_result"
    }
   ],
   "source": [
    "train_df=pd.read_csv('train.csv')\n",
    "train_df"
   ]
  },
  {
   "cell_type": "markdown",
   "metadata": {},
   "source": [
    "## Model preparation:"
   ]
  },
  {
   "cell_type": "code",
   "execution_count": 22,
   "metadata": {},
   "outputs": [],
   "source": [
    "model=keras.Sequential([#allows us to list layers\n",
    "    keras.layers.Dense(4, input_shape=(2,),activation='relu'),#4 layers, inputshape of 2 because its x and y.\n",
    "    keras.layers.Dense(2, activation='sigmoid') #4neurons into 2 neurons. for the binary we could use sigmoid or softmax\n",
    "]) \n",
    "\n",
    "model.compile(optimizer='adam',\n",
    "             loss=keras.losses.SparseCategoricalCrossentropy(from_logits=True),\n",
    "#using sparse because its not a one-hot[0,0,1,0], but is integer(1 and 0)\n",
    "#logits means function operates on unscaled output of earlier layers and the relative scale to understand the unit is linear.\n",
    "#we use logits because our values(x and y) are not between 0 and 1\n",
    "              metrics=['accuracy']\n",
    "             ) \n"
   ]
  },
  {
   "cell_type": "markdown",
   "metadata": {},
   "source": [
    "Note: We need to shuffle because highly correlated points are next to each other."
   ]
  },
  {
   "cell_type": "code",
   "execution_count": 23,
   "metadata": {},
   "outputs": [],
   "source": [
    "np.random.shuffle(train_df.values) #This is an inplace method."
   ]
  },
  {
   "cell_type": "markdown",
   "metadata": {},
   "source": [
    "we need to change our X and Y into one variable"
   ]
  },
  {
   "cell_type": "code",
   "execution_count": 24,
   "metadata": {},
   "outputs": [],
   "source": [
    "train_df.x.values #This gets our dataframe to numpy array\n",
    "# type(train_df.x.values)\n",
    "x=np.column_stack((train_df.x.values,train_df.y.values)) #This pairs x and y columns together in one value"
   ]
  },
  {
   "cell_type": "markdown",
   "metadata": {},
   "source": [
    "## Fitting training data:"
   ]
  },
  {
   "cell_type": "code",
   "execution_count": 25,
   "metadata": {},
   "outputs": [
    {
     "name": "stdout",
     "output_type": "stream",
     "text": [
      "Epoch 1/5\n",
      "1000/1000 [==============================] - 1s 602us/step - loss: 0.5321 - accuracy: 0.8117\n",
      "Epoch 2/5\n",
      "1000/1000 [==============================] - 1s 611us/step - loss: 0.0840 - accuracy: 1.0000\n",
      "Epoch 3/5\n",
      "1000/1000 [==============================] - 1s 607us/step - loss: 0.0274 - accuracy: 1.0000\n",
      "Epoch 4/5\n",
      "1000/1000 [==============================] - 1s 611us/step - loss: 0.0125 - accuracy: 1.0000\n",
      "Epoch 5/5\n",
      "1000/1000 [==============================] - 1s 658us/step - loss: 0.0068 - accuracy: 1.0000\n"
     ]
    },
    {
     "data": {
      "text/plain": [
       "<tensorflow.python.keras.callbacks.History at 0x1689f05ecd0>"
      ]
     },
     "execution_count": 25,
     "metadata": {},
     "output_type": "execute_result"
    }
   ],
   "source": [
    "model.fit(x,train_df.color.values,batch_size=4,epochs=5)"
   ]
  },
  {
   "cell_type": "markdown",
   "metadata": {},
   "source": [
    "## Test data:"
   ]
  },
  {
   "cell_type": "code",
   "execution_count": 32,
   "metadata": {},
   "outputs": [],
   "source": [
    "test_df=pd.read_csv('test.csv')\n",
    "test_x=np.column_stack((test_df['x'].values,test_df.y.values))"
   ]
  },
  {
   "cell_type": "code",
   "execution_count": 34,
   "metadata": {},
   "outputs": [
    {
     "name": "stdout",
     "output_type": "stream",
     "text": [
      "32/32 [==============================] - 0s 626us/step - loss: 0.0044 - accuracy: 1.0000\n"
     ]
    },
    {
     "data": {
      "text/plain": [
       "[0.004413589835166931, 1.0]"
      ]
     },
     "execution_count": 34,
     "metadata": {},
     "output_type": "execute_result"
    }
   ],
   "source": [
    "model.evaluate(test_x,test_df.color.values)"
   ]
  },
  {
   "cell_type": "code",
   "execution_count": null,
   "metadata": {},
   "outputs": [],
   "source": []
  }
 ],
 "metadata": {
  "kernelspec": {
   "display_name": "Python 3",
   "language": "python",
   "name": "python3"
  },
  "language_info": {
   "codemirror_mode": {
    "name": "ipython",
    "version": 3
   },
   "file_extension": ".py",
   "mimetype": "text/x-python",
   "name": "python",
   "nbconvert_exporter": "python",
   "pygments_lexer": "ipython3",
   "version": "3.8.5"
  }
 },
 "nbformat": 4,
 "nbformat_minor": 4
}
