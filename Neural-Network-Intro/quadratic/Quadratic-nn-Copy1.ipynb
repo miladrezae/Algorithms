{
 "cells": [
  {
   "cell_type": "code",
   "execution_count": 41,
   "metadata": {},
   "outputs": [],
   "source": [
    "import tensorflow as tf\n",
    "from tensorflow import keras\n",
    "import pandas as pd\n",
    "import numpy as np\n",
    "import matplotlib.pyplot as plt"
   ]
  },
  {
   "cell_type": "code",
   "execution_count": 6,
   "metadata": {},
   "outputs": [
    {
     "data": {
      "text/html": [
       "<div>\n",
       "<style scoped>\n",
       "    .dataframe tbody tr th:only-of-type {\n",
       "        vertical-align: middle;\n",
       "    }\n",
       "\n",
       "    .dataframe tbody tr th {\n",
       "        vertical-align: top;\n",
       "    }\n",
       "\n",
       "    .dataframe thead th {\n",
       "        text-align: right;\n",
       "    }\n",
       "</style>\n",
       "<table border=\"1\" class=\"dataframe\">\n",
       "  <thead>\n",
       "    <tr style=\"text-align: right;\">\n",
       "      <th></th>\n",
       "      <th>x</th>\n",
       "      <th>y</th>\n",
       "      <th>color</th>\n",
       "    </tr>\n",
       "  </thead>\n",
       "  <tbody>\n",
       "    <tr>\n",
       "      <th>0</th>\n",
       "      <td>-4.956506</td>\n",
       "      <td>25.706334</td>\n",
       "      <td>0.0</td>\n",
       "    </tr>\n",
       "    <tr>\n",
       "      <th>1</th>\n",
       "      <td>2.897218</td>\n",
       "      <td>10.359784</td>\n",
       "      <td>0.0</td>\n",
       "    </tr>\n",
       "    <tr>\n",
       "      <th>2</th>\n",
       "      <td>-4.488273</td>\n",
       "      <td>22.113311</td>\n",
       "      <td>0.0</td>\n",
       "    </tr>\n",
       "    <tr>\n",
       "      <th>3</th>\n",
       "      <td>3.823152</td>\n",
       "      <td>15.665060</td>\n",
       "      <td>0.0</td>\n",
       "    </tr>\n",
       "    <tr>\n",
       "      <th>4</th>\n",
       "      <td>4.425201</td>\n",
       "      <td>21.118726</td>\n",
       "      <td>0.0</td>\n",
       "    </tr>\n",
       "    <tr>\n",
       "      <th>...</th>\n",
       "      <td>...</td>\n",
       "      <td>...</td>\n",
       "      <td>...</td>\n",
       "    </tr>\n",
       "    <tr>\n",
       "      <th>3995</th>\n",
       "      <td>-2.159130</td>\n",
       "      <td>3.109645</td>\n",
       "      <td>1.0</td>\n",
       "    </tr>\n",
       "    <tr>\n",
       "      <th>3996</th>\n",
       "      <td>-4.506705</td>\n",
       "      <td>19.178030</td>\n",
       "      <td>1.0</td>\n",
       "    </tr>\n",
       "    <tr>\n",
       "      <th>3997</th>\n",
       "      <td>-0.000344</td>\n",
       "      <td>-1.611153</td>\n",
       "      <td>1.0</td>\n",
       "    </tr>\n",
       "    <tr>\n",
       "      <th>3998</th>\n",
       "      <td>3.981467</td>\n",
       "      <td>14.326529</td>\n",
       "      <td>1.0</td>\n",
       "    </tr>\n",
       "    <tr>\n",
       "      <th>3999</th>\n",
       "      <td>-3.050673</td>\n",
       "      <td>7.392352</td>\n",
       "      <td>1.0</td>\n",
       "    </tr>\n",
       "  </tbody>\n",
       "</table>\n",
       "<p>4000 rows × 3 columns</p>\n",
       "</div>"
      ],
      "text/plain": [
       "             x          y  color\n",
       "0    -4.956506  25.706334    0.0\n",
       "1     2.897218  10.359784    0.0\n",
       "2    -4.488273  22.113311    0.0\n",
       "3     3.823152  15.665060    0.0\n",
       "4     4.425201  21.118726    0.0\n",
       "...        ...        ...    ...\n",
       "3995 -2.159130   3.109645    1.0\n",
       "3996 -4.506705  19.178030    1.0\n",
       "3997 -0.000344  -1.611153    1.0\n",
       "3998  3.981467  14.326529    1.0\n",
       "3999 -3.050673   7.392352    1.0\n",
       "\n",
       "[4000 rows x 3 columns]"
      ]
     },
     "execution_count": 6,
     "metadata": {},
     "output_type": "execute_result"
    }
   ],
   "source": [
    "train_df=pd.read_csv('train.csv')\n",
    "train_df"
   ]
  },
  {
   "cell_type": "markdown",
   "metadata": {},
   "source": [
    "## Model preparation:"
   ]
  },
  {
   "cell_type": "code",
   "execution_count": 34,
   "metadata": {},
   "outputs": [],
   "source": [
    "model=keras.Sequential([#allows us to list layers\n",
    "    keras.layers.Dense(32, input_shape=(2,),activation='relu'),#8 layers, inputshape of 2 because its x and y.\n",
    "    #keras.layers.Dropout(0.2)\n",
    "    keras.layers.Dense(32,activation='relu'),\n",
    "    keras.layers.Dense(2, activation='sigmoid') #4neurons into 2 neurons. for the binary we could use sigmoid or softmax\n",
    "]) \n",
    "\n",
    "model.compile(optimizer='adam',\n",
    "             loss=keras.losses.SparseCategoricalCrossentropy(from_logits=True),\n",
    "#using sparse because its not a one-hot[0,0,1,0], but is integer(1 and 0)\n",
    "#logits means function operates on unscaled output of earlier layers and the relative scale to understand the unit is linear.\n",
    "#we use logits because our values(x and y) are not between 0 and 1\n",
    "              metrics=['accuracy']\n",
    "             ) \n"
   ]
  },
  {
   "cell_type": "markdown",
   "metadata": {},
   "source": [
    "Note: We need to shuffle because highly correlated points are next to each other."
   ]
  },
  {
   "cell_type": "code",
   "execution_count": 35,
   "metadata": {},
   "outputs": [],
   "source": [
    "np.random.shuffle(train_df.values) #This is an inplace method."
   ]
  },
  {
   "cell_type": "markdown",
   "metadata": {},
   "source": [
    "we need to change our X and Y into one variable"
   ]
  },
  {
   "cell_type": "code",
   "execution_count": 36,
   "metadata": {},
   "outputs": [],
   "source": [
    "train_df.x.values #This gets our dataframe to numpy array\n",
    "# type(train_df.x.values)\n",
    "x=np.column_stack((train_df.x.values,train_df.y.values)) #This pairs x and y columns together in one value"
   ]
  },
  {
   "cell_type": "markdown",
   "metadata": {},
   "source": [
    "## Fitting training data:"
   ]
  },
  {
   "cell_type": "code",
   "execution_count": 37,
   "metadata": {},
   "outputs": [
    {
     "name": "stdout",
     "output_type": "stream",
     "text": [
      "Epoch 1/10\n",
      "1000/1000 [==============================] - 1s 640us/step - loss: 0.6159 - accuracy: 0.7188\n",
      "Epoch 2/10\n",
      "1000/1000 [==============================] - 1s 651us/step - loss: 0.2722 - accuracy: 0.8969\n",
      "Epoch 3/10\n",
      "1000/1000 [==============================] - 1s 654us/step - loss: 0.1901 - accuracy: 0.9297\n",
      "Epoch 4/10\n",
      "1000/1000 [==============================] - 1s 629us/step - loss: 0.1285 - accuracy: 0.9630\n",
      "Epoch 5/10\n",
      "1000/1000 [==============================] - 1s 611us/step - loss: 0.0813 - accuracy: 0.9779\n",
      "Epoch 6/10\n",
      "1000/1000 [==============================] - 1s 610us/step - loss: 0.0675 - accuracy: 0.9816\n",
      "Epoch 7/10\n",
      "1000/1000 [==============================] - 1s 608us/step - loss: 0.0494 - accuracy: 0.9879\n",
      "Epoch 8/10\n",
      "1000/1000 [==============================] - 1s 612us/step - loss: 0.0353 - accuracy: 0.9935\n",
      "Epoch 9/10\n",
      "1000/1000 [==============================] - 1s 612us/step - loss: 0.0418 - accuracy: 0.9871\n",
      "Epoch 10/10\n",
      "1000/1000 [==============================] - 1s 600us/step - loss: 0.0305 - accuracy: 0.9919\n"
     ]
    },
    {
     "data": {
      "text/plain": [
       "<tensorflow.python.keras.callbacks.History at 0x29ab8abbb20>"
      ]
     },
     "execution_count": 37,
     "metadata": {},
     "output_type": "execute_result"
    }
   ],
   "source": [
    "model.fit(x,train_df.color.values,batch_size=4,epochs=10)"
   ]
  },
  {
   "cell_type": "markdown",
   "metadata": {},
   "source": [
    "## Test data:"
   ]
  },
  {
   "cell_type": "code",
   "execution_count": 38,
   "metadata": {},
   "outputs": [],
   "source": [
    "test_df=pd.read_csv('test.csv')\n",
    "test_x=np.column_stack((test_df['x'].values,test_df.y.values))"
   ]
  },
  {
   "cell_type": "code",
   "execution_count": 39,
   "metadata": {},
   "outputs": [
    {
     "name": "stdout",
     "output_type": "stream",
     "text": [
      "32/32 [==============================] - 0s 689us/step - loss: 0.0092 - accuracy: 1.0000\n"
     ]
    },
    {
     "data": {
      "text/plain": [
       "[0.009181402623653412, 1.0]"
      ]
     },
     "execution_count": 39,
     "metadata": {},
     "output_type": "execute_result"
    }
   ],
   "source": [
    "model.evaluate(test_x,test_df.color.values)"
   ]
  },
  {
   "cell_type": "code",
   "execution_count": null,
   "metadata": {},
   "outputs": [],
   "source": []
  }
 ],
 "metadata": {
  "kernelspec": {
   "display_name": "Python 3",
   "language": "python",
   "name": "python3"
  },
  "language_info": {
   "codemirror_mode": {
    "name": "ipython",
    "version": 3
   },
   "file_extension": ".py",
   "mimetype": "text/x-python",
   "name": "python",
   "nbconvert_exporter": "python",
   "pygments_lexer": "ipython3",
   "version": "3.8.5"
  }
 },
 "nbformat": 4,
 "nbformat_minor": 4
}
